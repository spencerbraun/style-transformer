{
 "cells": [
  {
   "cell_type": "code",
   "execution_count": 1,
   "metadata": {},
   "outputs": [],
   "source": [
    "import sys\n",
    "import torch\n",
    "import time\n",
    "from data import load_dataset\n",
    "from models import StyleTransformer, Discriminator\n",
    "from train import train, auto_eval, get_lengths, batch_preprocess\n",
    "from main import Config\n",
    "from utils import tensor2text, calc_ppl, idx2onehot, add_noise, word_drop\n",
    "from evaluator import Evaluator"
   ]
  },
  {
   "cell_type": "code",
   "execution_count": 2,
   "metadata": {},
   "outputs": [],
   "source": [
    "config = Config()\n",
    "train_iters, dev_iters, test_iters, vocab = load_dataset(config)"
   ]
  },
  {
   "cell_type": "code",
   "execution_count": 3,
   "metadata": {},
   "outputs": [],
   "source": [
    "model_F = StyleTransformer(config, vocab).to(config.device)\n",
    "model_D = Discriminator(config, vocab).to(config.device)"
   ]
  },
  {
   "cell_type": "code",
   "execution_count": 4,
   "metadata": {},
   "outputs": [],
   "source": [
    "  \n",
    "model_F.load_state_dict(torch.load(\"save/Mar09174431/ckpts/2100_F.pth\"))\n",
    "model_F.eval()\n",
    "vocab_size = len(vocab)\n",
    "eos_idx = vocab.stoi['<eos>']\n"
   ]
  },
  {
   "cell_type": "code",
   "execution_count": 5,
   "metadata": {},
   "outputs": [],
   "source": [
    "def calc_temperature(temperature_config):\n",
    "    num = len(temperature_config)\n",
    "    for i in range(num):\n",
    "        t_a, s_a = temperature_config[i]\n",
    "        if i == num - 1:\n",
    "            return t_a"
   ]
  },
  {
   "cell_type": "code",
   "execution_count": 6,
   "metadata": {},
   "outputs": [],
   "source": [
    "temperature = calc_temperature(config.temperature_config)"
   ]
  },
  {
   "cell_type": "code",
   "execution_count": 7,
   "metadata": {},
   "outputs": [],
   "source": [
    "#def auto_eval(config, vocab, model_F, test_iters, global_step, temperature):\n",
    "\n",
    "def inference(data_iter, raw_style):\n",
    "    gold_text = []\n",
    "    raw_output = []\n",
    "    rev_output = []\n",
    "    for batch in data_iter:\n",
    "        inp_tokens = batch.text\n",
    "        inp_lengths = get_lengths(inp_tokens, eos_idx)\n",
    "        raw_styles = torch.full_like(inp_tokens[:, 0], raw_style)\n",
    "        rev_styles = 1 - raw_styles\n",
    "    \n",
    "        with torch.no_grad():\n",
    "            raw_log_probs = model_F(\n",
    "                inp_tokens,\n",
    "                None,\n",
    "                inp_lengths,\n",
    "                raw_styles,\n",
    "                generate=True,\n",
    "                differentiable_decode=False,\n",
    "                temperature=temperature,\n",
    "            )\n",
    "        \n",
    "        with torch.no_grad():\n",
    "            rev_log_probs = model_F(\n",
    "                inp_tokens, \n",
    "                None,\n",
    "                inp_lengths,\n",
    "                rev_styles,\n",
    "                generate=True,\n",
    "                differentiable_decode=False,\n",
    "                temperature=temperature,\n",
    "            )\n",
    "            \n",
    "        gold_text += tensor2text(vocab, inp_tokens.cpu())\n",
    "        raw_output += tensor2text(vocab, raw_log_probs.argmax(-1).cpu())\n",
    "        rev_output += tensor2text(vocab, rev_log_probs.argmax(-1).cpu())\n",
    "\n",
    "    return gold_text, raw_output, rev_output\n",
    "\n",
    "  "
   ]
  },
  {
   "cell_type": "code",
   "execution_count": 8,
   "metadata": {},
   "outputs": [],
   "source": [
    "\n",
    "pos_iter = test_iters.pos_iter\n",
    "neg_iter = test_iters.neg_iter\n",
    "\n",
    "gold_text, raw_output, rev_output = zip(inference(neg_iter, 0), inference(pos_iter, 1))"
   ]
  },
  {
   "cell_type": "code",
   "execution_count": 10,
   "metadata": {},
   "outputs": [],
   "source": [
    "outpath = \"/home/ubuntu/style-transformer/outputs/soph_tagged/\""
   ]
  },
  {
   "cell_type": "code",
   "execution_count": 11,
   "metadata": {},
   "outputs": [],
   "source": [
    "with open(outpath + 'gold_text.txt' ,'w') as f:\n",
    "    f.writelines([x + '\\n' for x in gold_text[0]])\n",
    "with open(outpath + 'raw_output_0.txt' ,'w') as f:\n",
    "    f.writelines([x + '\\n' for x in raw_output[0]])\n",
    "with open(outpath + 'raw_output_1.txt' ,'w') as f:\n",
    "    f.writelines([x + '\\n' for x in raw_output[1]])\n",
    "with open(outpath + 'rev_output_0.txt' ,'w') as f:\n",
    "    f.writelines([x + '\\n' for x in rev_output[0]])\n",
    "with open(outpath + 'rev_output_1.txt' ,'w') as f:\n",
    "    f.writelines([x + '\\n' for x in rev_output[1]])\n"
   ]
  },
  {
   "cell_type": "code",
   "execution_count": null,
   "metadata": {},
   "outputs": [],
   "source": []
  },
  {
   "cell_type": "code",
   "execution_count": null,
   "metadata": {},
   "outputs": [],
   "source": []
  },
  {
   "cell_type": "code",
   "execution_count": null,
   "metadata": {},
   "outputs": [],
   "source": []
  },
  {
   "cell_type": "code",
   "execution_count": null,
   "metadata": {},
   "outputs": [],
   "source": []
  }
 ],
 "metadata": {
  "kernelspec": {
   "display_name": "Python [conda env:pytorch_p36] *",
   "language": "python",
   "name": "conda-env-pytorch_p36-py"
  },
  "language_info": {
   "codemirror_mode": {
    "name": "ipython",
    "version": 3
   },
   "file_extension": ".py",
   "mimetype": "text/x-python",
   "name": "python",
   "nbconvert_exporter": "python",
   "pygments_lexer": "ipython3",
   "version": "3.6.5"
  }
 },
 "nbformat": 4,
 "nbformat_minor": 2
}
